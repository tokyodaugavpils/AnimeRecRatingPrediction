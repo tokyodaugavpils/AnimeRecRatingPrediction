{
 "cells": [
  {
   "cell_type": "code",
   "execution_count": null,
   "id": "c7c4d43c-ad4e-4f7b-a0ac-923d5d200dc2",
   "metadata": {},
   "outputs": [
    {
     "name": "stderr",
     "output_type": "stream",
     "text": [
      "/opt/anaconda3/lib/python3.12/site-packages/sklearn/feature_extraction/text.py:521: UserWarning: The parameter 'token_pattern' will not be used since 'tokenizer' is not None'\n",
      "  warnings.warn(\n"
     ]
    },
    {
     "name": "stdin",
     "output_type": "stream",
     "text": [
      "\n",
      "Введите название аниме (или '0' для завершения):  Monster\n"
     ]
    },
    {
     "name": "stdout",
     "output_type": "stream",
     "text": [
      "\n",
      "🎬 Название: Monster\n",
      "📊 Реальный рейтинг: 8.72\n",
      "🤖 Предсказанный рейтинг: 8.62\n"
     ]
    }
   ],
   "source": [
    "# Шаг 0: Импорт библиотек\n",
    "import pandas as pd\n",
    "import numpy as np\n",
    "from sklearn.model_selection import train_test_split\n",
    "from sklearn.feature_extraction.text import CountVectorizer\n",
    "from sklearn.ensemble import RandomForestRegressor\n",
    "from sklearn.metrics import mean_squared_error\n",
    "\n",
    "# Шаг 1: Загрузка данных\n",
    "df = pd.read_csv(\"anime.csv\")\n",
    "\n",
    "# Шаг 2: Убираем строки без жанра или рейтинга\n",
    "df = df[df['genre'].notna()]\n",
    "df = df[df['rating'].notna()]\n",
    "\n",
    "# Шаг 3: Сохраняем имена аниме (для поиска)\n",
    "df['name'] = df['name'].astype(str)\n",
    "\n",
    "# Шаг 4: Оставляем нужные признаки\n",
    "df = df[['name', 'genre', 'type', 'episodes', 'members', 'rating']]\n",
    "\n",
    "# Шаг 5: Обрабатываем жанры (genre — строка: \"Action, Fantasy\")\n",
    "vectorizer = CountVectorizer(tokenizer=lambda x: x.split(', '))\n",
    "genre_matrix = vectorizer.fit_transform(df['genre'])\n",
    "\n",
    "# Шаг 6: Преобразуем \"type\" (TV, Movie и т.п.) в числа\n",
    "df['type'] = df['type'].astype('category')\n",
    "df['type_code'] = df['type'].cat.codes\n",
    "\n",
    "# Шаг 7: Обрабатываем episodes (строки → числа + замена NaN на медиану)\n",
    "df['episodes'] = pd.to_numeric(df['episodes'], errors='coerce')\n",
    "df['episodes'] = df['episodes'].fillna(df['episodes'].median())\n",
    "\n",
    "# Шаг 8: Подготовка признаков (X)\n",
    "X_other = df[['type_code', 'episodes', 'members']].values\n",
    "X_all = np.hstack((genre_matrix.toarray(), X_other))\n",
    "\n",
    "# Шаг 9: Целевая переменная (y)\n",
    "y = df['rating'].values\n",
    "\n",
    "# Шаг 10: Делим данные на train/test\n",
    "X_train, X_test, y_train, y_test = train_test_split(X_all, y, test_size=0.2, random_state=42)\n",
    "\n",
    "# Шаг 11: Обучаем модель\n",
    "model = RandomForestRegressor(n_estimators=100, random_state=42)\n",
    "model.fit(X_train, y_train)\n",
    "\n",
    "# Шаг 12: Предсказание и ошибка\n",
    "y_pred = model.predict(X_test)\n",
    "mse = mean_squared_error(y_test, y_pred)\n",
    "# print(\"Среднеквадратичная ошибка (MSE):\", round(mse, 2))\n",
    "\n",
    "# Шаг 13: Функция для предсказания по названию\n",
    "def predict_anime_rating(anime_name):\n",
    "    results = df[df['name'].str.lower() == anime_name.lower()]\n",
    "\n",
    "    if results.empty:\n",
    "        print(f\"❌ Аниме с названием '{anime_name}' не найдено.\")\n",
    "        return\n",
    "\n",
    "    for idx, row in results.iterrows():\n",
    "        # Преобразуем жанры в вектор\n",
    "        genre_vec = vectorizer.transform([row['genre']]).toarray()\n",
    "\n",
    "        # Признаки: type_code, episodes, members\n",
    "        other_features = np.array([[row['type_code'], row['episodes'], row['members']]])\n",
    "\n",
    "        # Объединяем всё\n",
    "        full_features = np.hstack((genre_vec, other_features))\n",
    "\n",
    "        # Предсказание\n",
    "        predicted_rating = model.predict(full_features)[0]\n",
    "\n",
    "        # Результат\n",
    "        print(f\"\\n🎬 Название: {row['name']}\")\n",
    "        print(f\"📊 Реальный рейтинг: {row['rating']}\")\n",
    "        print(f\"🤖 Предсказанный рейтинг: {round(predicted_rating, 2)}\")\n",
    "\n",
    "# Шаг 14: Пример использования\n",
    "while True:\n",
    "    anime_input = input(\"\\nВведите название аниме (или '0' для завершения): \")\n",
    "    if anime_input.lower() == '0':\n",
    "        break\n",
    "    predict_anime_rating(anime_input)"
   ]
  },
  {
   "cell_type": "code",
   "execution_count": null,
   "id": "6aab51fa-ea0a-4275-b0d9-ba4ce7caecf7",
   "metadata": {},
   "outputs": [],
   "source": []
  }
 ],
 "metadata": {
  "kernelspec": {
   "display_name": "Python [conda env:base] *",
   "language": "python",
   "name": "conda-base-py"
  },
  "language_info": {
   "codemirror_mode": {
    "name": "ipython",
    "version": 3
   },
   "file_extension": ".py",
   "mimetype": "text/x-python",
   "name": "python",
   "nbconvert_exporter": "python",
   "pygments_lexer": "ipython3",
   "version": "3.12.7"
  }
 },
 "nbformat": 4,
 "nbformat_minor": 5
}
